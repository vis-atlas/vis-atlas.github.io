{
 "cells": [
  {
   "cell_type": "code",
   "execution_count": 60,
   "id": "2d9afd6a",
   "metadata": {},
   "outputs": [],
   "source": [
    "import pandas as pd\n",
    "import json"
   ]
  },
  {
   "cell_type": "code",
   "execution_count": 61,
   "id": "eece4eeb",
   "metadata": {},
   "outputs": [],
   "source": [
    "with open('dimensions.json', 'r') as f:\n",
    "    dimensions = json.load(f)\n",
    "\n",
    "df = pd.read_csv('collection.csv')"
   ]
  },
  {
   "cell_type": "code",
   "execution_count": 62,
   "id": "2bdb6a5c",
   "metadata": {},
   "outputs": [],
   "source": [
    "# print(\"Column types:\")\n",
    "# print(df.dtypes)\n",
    "# print(\"\\nFirst row values:\")\n",
    "# print(df.iloc[0])\n"
   ]
  },
  {
   "cell_type": "code",
   "execution_count": 63,
   "id": "d4816522",
   "metadata": {},
   "outputs": [],
   "source": [
    "output = df[['id', 'title', 'link', 'description', 'image']].copy()"
   ]
  },
  {
   "cell_type": "code",
   "execution_count": 64,
   "id": "0d4db66a",
   "metadata": {},
   "outputs": [
    {
     "name": "stdout",
     "output_type": "stream",
     "text": [
      "   id                          title  \\\n",
      "0   1         Healthy Communities NC   \n",
      "1   2  State of the Union in Numbers   \n",
      "2   3              Our World in Data   \n",
      "3   4                       Data USA   \n",
      "4   5              World Water Atlas   \n",
      "\n",
      "                                       link description  image      Genre  \\\n",
      "0         https://healthycommunitiesnc.org/          xx  1.png  Storybank   \n",
      "1  https://usafacts.org/state-of-the-union/          xx  2.png  Storybank   \n",
      "2               https://ourworldindata.org/          xx  3.png  Storybank   \n",
      "3                       https://datausa.io/          xx  4.png  Storybank   \n",
      "4          https://www.worldwateratlas.org/          xx  5.png  Storybank   \n",
      "\n",
      "                                            Data  \\\n",
      "0  Updatable, Multiple sources, External dataset   \n",
      "1  Updatable, Multiple sources, External dataset   \n",
      "2  Updatable, Multiple sources, External dataset   \n",
      "3  Updatable, Multiple sources, External dataset   \n",
      "4  Updatable, Multiple sources, External dataset   \n",
      "\n",
      "                                          Entry page  \\\n",
      "0                  Personalisation, Cover vis/teaser   \n",
      "1                                   Table of content   \n",
      "2  Featured, Personalisation, Table of content, L...   \n",
      "3  Featured, Random data, Metadata, Table of cont...   \n",
      "4                  Featured, Lenses, Interactive vis   \n",
      "\n",
      "                                        Content page Atlas structure Vis type  \\\n",
      "0                                             Report        Parallel            \n",
      "1                                             Report        Parallel            \n",
      "2  Report, Article, Exploratory vis, Chart collec...                            \n",
      "3                 Report, Dashboard, Exploratory vis        Parallel            \n",
      "4                               Article, Combination        Parallel            \n",
      "\n",
      "                                     Vis interaction  \\\n",
      "0                       Create focus, Customize data   \n",
      "1                                       Create focus   \n",
      "2         Create focus, Customize data, Switch views   \n",
      "3  Create focus, Customize data, Switch views, Co...   \n",
      "4                                       Create focus   \n",
      "\n",
      "                          Atlas navigation       Onboarding  \\\n",
      "0              Search, Structural overview                    \n",
      "1          Structural overview, Page links                    \n",
      "2  Search, Structural overview, Page links                    \n",
      "3  Search, Structural overview, Page links  Glossary, Video   \n",
      "4                               Page links            Video   \n",
      "\n",
      "                                 Transparency  \n",
      "0               Data sourced, Export data/vis  \n",
      "1               Data sourced, Export data/vis  \n",
      "2  Data sourced, Export data/vis, Methodology  \n",
      "3  Data sourced, Export data/vis, Methodology  \n",
      "4                                              \n"
     ]
    }
   ],
   "source": [
    "# Helper to detect if a column is checked\n",
    "def is_checked(value):\n",
    "    return str(value).strip() in ['1', '1.0']\n",
    "\n",
    "# Process each dimension\n",
    "for dim in dimensions:\n",
    "    dim_name = dim['dimension']\n",
    "    items = dim['items']\n",
    "    valid_items = [item for item in items if item in df.columns]\n",
    "\n",
    "    if dim_name == 'genre':\n",
    "        def get_first_match(row):\n",
    "            for item in valid_items:\n",
    "                if is_checked(row.get(item)):\n",
    "                    return item\n",
    "            return ''\n",
    "        output[dim_name] = df.apply(get_first_match, axis=1)\n",
    "\n",
    "    else:\n",
    "        def get_all_matches(row):\n",
    "            return ', '.join([item for item in valid_items if is_checked(row.get(item))])\n",
    "        output[dim_name] = df.apply(get_all_matches, axis=1)\n",
    "\n",
    "print(output.head())"
   ]
  },
  {
   "cell_type": "code",
   "execution_count": 65,
   "id": "6ba90563",
   "metadata": {},
   "outputs": [],
   "source": [
    "output.to_csv('data.csv', index=False)\n",
    "# print(\"Transformed CSV saved as 'transformed_output.csv'\")"
   ]
  }
 ],
 "metadata": {
  "kernelspec": {
   "display_name": "base",
   "language": "python",
   "name": "python3"
  },
  "language_info": {
   "codemirror_mode": {
    "name": "ipython",
    "version": 3
   },
   "file_extension": ".py",
   "mimetype": "text/x-python",
   "name": "python",
   "nbconvert_exporter": "python",
   "pygments_lexer": "ipython3",
   "version": "3.11.3"
  }
 },
 "nbformat": 4,
 "nbformat_minor": 5
}
